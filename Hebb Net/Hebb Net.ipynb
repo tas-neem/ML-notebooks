{
 "cells": [
  {
   "cell_type": "markdown",
   "id": "8ea86b32-b8bd-4211-b197-94aa9ed143bc",
   "metadata": {},
   "source": [
    "**Write a python program to implement AND, OR gates in Hebb net without using libraries (Hebbian learning rule).**"
   ]
  },
  {
   "cell_type": "code",
   "execution_count": 1,
   "id": "2d39e057-bbf3-4535-af60-cf27129c2ada",
   "metadata": {},
   "outputs": [
    {
     "name": "stdin",
     "output_type": "stream",
     "text": [
      "Enter gate type (AND/OR):  and\n",
      "Enter number of epochs:  1\n",
      "Enter bias weight:  1\n",
      "Enter weight for x1:  1\n",
      "Enter weight for x2:  1\n"
     ]
    },
    {
     "name": "stdout",
     "output_type": "stream",
     "text": [
      "Final weights for AND gate:\n",
      "w1: 0.5\n",
      "w2: 0.5\n",
      "wb: -0.5\n",
      "\n",
      "AND Gate:\n",
      "Input  Output\n",
      "(0, 0)   0\n",
      "(0, 1)   0\n",
      "(1, 0)   0\n",
      "(1, 1)   1\n"
     ]
    }
   ],
   "source": [
    "def compute(training_data, epochs, initial_weights):\n",
    "    weights=initial_weights[:]\n",
    "    bias=1 \n",
    "    l=0.5\n",
    "    for epoch in range(epochs):\n",
    "        for x1, x2, y in training_data:\n",
    "            f=x1*weights[1]+x2*weights[2]+bias*weights[0]\n",
    "            y_out=int(f>0)\n",
    "            error=y-y_out            \n",
    "            if error!=0:\n",
    "                weights[1]+=l*error*x1\n",
    "                weights[2]+=l*error*x2\n",
    "                weights[0]+=l*error*bias\n",
    "    return weights\n",
    "\n",
    "def predict(weights, x1, x2):\n",
    "    f=x1*weights[1]+x2*weights[2]+weights[0]\n",
    "    return 1 if f>0 else 0\n",
    "\n",
    "gate = input(\"Enter gate type (AND/OR): \").strip().upper()\n",
    "\n",
    "if gate == \"AND\":\n",
    "    inputs=[(0, 0, 0), (0, 1, 0), (1, 0, 0), (1, 1, 1)]\n",
    "elif gate == \"OR\":\n",
    "    inputs=[(0, 0, 0), (0, 1, 1), (1, 0, 1), (1, 1, 1)]\n",
    "else:\n",
    "    print(\"Invalid gate\")\n",
    "    exit()\n",
    "\n",
    "epochs=int(input(\"Enter number of epochs: \"))\n",
    "weights=[\n",
    "    float(input(\"Enter bias weight: \")),\n",
    "    float(input(\"Enter weight for x1: \")),\n",
    "    float(input(\"Enter weight for x2: \"))\n",
    "]\n",
    "\n",
    "final_weights=compute(inputs,epochs,weights)\n",
    "\n",
    "print(f\"Final weights for {gate} gate:\")\n",
    "print(f\"w1: {final_weights[1]}\\nw2: {final_weights[2]}\\nwb: {final_weights[0]}\")\n",
    "\n",
    "print(f\"\\n{gate} Gate:\\nInput  Output\")\n",
    "for x1, x2, _ in inputs:\n",
    "    print(f\"({x1}, {x2})   {predict(final_weights, x1, x2)}\")"
   ]
  },
  {
   "cell_type": "code",
   "execution_count": null,
   "id": "a2ca750e-4208-4a4e-93cb-be05a73deadf",
   "metadata": {},
   "outputs": [],
   "source": []
  }
 ],
 "metadata": {
  "kernelspec": {
   "display_name": "Python 3 (ipykernel)",
   "language": "python",
   "name": "python3"
  },
  "language_info": {
   "codemirror_mode": {
    "name": "ipython",
    "version": 3
   },
   "file_extension": ".py",
   "mimetype": "text/x-python",
   "name": "python",
   "nbconvert_exporter": "python",
   "pygments_lexer": "ipython3",
   "version": "3.12.6"
  }
 },
 "nbformat": 4,
 "nbformat_minor": 5
}
