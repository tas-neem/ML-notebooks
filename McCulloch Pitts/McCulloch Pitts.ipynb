{
 "cells": [
  {
   "cell_type": "markdown",
   "id": "bdc93294-f708-461a-8bd1-91a4879abe41",
   "metadata": {},
   "source": [
    "**Construct McCulloch Pitts neuron model to implement AND, OR, NAND, NOR gate.**"
   ]
  },
  {
   "cell_type": "code",
   "execution_count": 1,
   "id": "b743835d-31fd-4fca-9ee6-677a18dafdb7",
   "metadata": {},
   "outputs": [
    {
     "name": "stdin",
     "output_type": "stream",
     "text": [
      "Gates: 1-AND, 2-OR, 3-NAND, 4-NOR\n",
      "Enter gate :  1\n",
      "Enter weight for x1:  1\n",
      "Enter weight for x2:  1\n",
      "Enter the threshold: 2\n"
     ]
    },
    {
     "name": "stdout",
     "output_type": "stream",
     "text": [
      "Input\t Output\n",
      "(0, 0)     0\n",
      "(0, 1)     0\n",
      "(1, 0)     0\n",
      "(1, 1)     1\n"
     ]
    }
   ],
   "source": [
    "import numpy as np\n",
    "\n",
    "def compute(inputs,weights,theta,gate):\n",
    "    f=np.dot(weights,inputs)\n",
    "    if gate==1 or gate==2:\n",
    "        return 1 if f>=theta else 0\n",
    "    elif gate == 3 or gate == 4: \n",
    "        return 1 if f<theta else 0\n",
    "        \n",
    "inputs=[(0,0),(0,1),(1,0),(1,1)]\n",
    "gate=int(input(\"Gates: 1-AND, 2-OR, 3-NAND, 4-NOR\\nEnter gate : \"))\n",
    "weights=[int(input(\"Enter weight for x1: \")), int(input(\"Enter weight for x2: \"))]\n",
    "theta=int(input(\"Enter the threshold:\"))\n",
    "print('Input\\t Output')\n",
    "for i in inputs:\n",
    "    print(f\"{i}     {compute(i,weights,theta,gate)}\")"
   ]
  }
 ],
 "metadata": {
  "kernelspec": {
   "display_name": "Python 3 (ipykernel)",
   "language": "python",
   "name": "python3"
  },
  "language_info": {
   "codemirror_mode": {
    "name": "ipython",
    "version": 3
   },
   "file_extension": ".py",
   "mimetype": "text/x-python",
   "name": "python",
   "nbconvert_exporter": "python",
   "pygments_lexer": "ipython3",
   "version": "3.12.6"
  }
 },
 "nbformat": 4,
 "nbformat_minor": 5
}
