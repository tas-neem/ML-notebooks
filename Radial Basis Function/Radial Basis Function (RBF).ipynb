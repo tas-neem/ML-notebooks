{
 "cells": [
  {
   "cell_type": "markdown",
   "id": "efce9f78-ddcb-42f6-aaf1-2d322c05191c",
   "metadata": {},
   "source": [
    "**Solve XOR Classification using RBF Network**"
   ]
  },
  {
   "cell_type": "code",
   "execution_count": 1,
   "id": "7f22f23d-5d21-4678-911c-c2eb6496659c",
   "metadata": {},
   "outputs": [],
   "source": [
    "import numpy as np\n",
    "import tensorflow as tf\n",
    "from keras.layers import Input, Layer, Dense, Flatten\n",
    "from keras.models import Model\n",
    "from keras.losses import binary_crossentropy\n",
    "from sklearn.cluster import KMeans\n",
    "\n",
    "class RBFLayer(Layer):\n",
    "    def __init__(self, units, gamma, **kwargs):\n",
    "        super(RBFLayer, self).__init__(**kwargs)\n",
    "        self.units = units\n",
    "        self.gamma = gamma\n",
    "\n",
    "    def build(self, input_shape):\n",
    "        kmeans = KMeans(n_clusters=self.units, random_state=0).fit(X) \n",
    "        self.mu = self.add_weight(name='mu',\n",
    "                                  shape=(self.units, input_shape[1]),\n",
    "                                  initializer=tf.constant_initializer(kmeans.cluster_centers_),\n",
    "                                  trainable=True)\n",
    "        super(RBFLayer, self).build(input_shape)\n",
    "\n",
    "    def call(self, inputs):\n",
    "        diff = tf.expand_dims(inputs, axis=1) - self.mu\n",
    "        l2 = tf.reduce_sum(tf.square(diff), axis=2) \n",
    "        res = tf.exp(-1 * self.gamma * l2)\n",
    "        return res\n",
    "\n",
    "    def compute_output_shape(self, input_shape):\n",
    "        return (input_shape[0], self.units)\n",
    "\n",
    "X = np.array([[0, 0], [0, 1], [1, 0], [1, 1]], dtype=np.float32)\n",
    "y = np.array([0, 1, 1, 0], dtype=np.float32)\n",
    "\n",
    "input_layer = Input(shape=(2,))\n",
    "x = Flatten()(input_layer)\n",
    "x = RBFLayer(4, 0.5)(x)\n",
    "output_layer = Dense(1, activation='sigmoid')(x)\n",
    "\n",
    "model = Model(inputs=input_layer, outputs=output_layer)\n",
    "\n",
    "model.compile(optimizer='rmsprop', loss=binary_crossentropy, metrics=['accuracy'])"
   ]
  },
  {
   "cell_type": "code",
   "execution_count": 5,
   "id": "0da53515-bf79-4d77-9d8a-26f4e8ff77ed",
   "metadata": {},
   "outputs": [
    {
     "name": "stdout",
     "output_type": "stream",
     "text": [
      "Evaluation Metrics : \n",
      "\n",
      "Loss: 0.4294479191303253\n",
      "Accuracy: 1.0\n",
      "Predictions :  [0 1 1 0]\n"
     ]
    }
   ],
   "source": [
    "model.fit(X, y, epochs=1000, verbose=0)  \n",
    "\n",
    "loss, accuracy = model.evaluate(X, y, verbose=0)\n",
    "print(\"Evaluation Metrics : \\n\")\n",
    "print(f\"Loss: {loss}\")\n",
    "print(f\"Accuracy: {accuracy}\")\n",
    "\n",
    "predictions = model.predict(X,verbose=0)\n",
    "print(\"Predictions : \",np.round(predictions).astype(int).flatten())"
   ]
  }
 ],
 "metadata": {
  "kernelspec": {
   "display_name": "Python 3 (ipykernel)",
   "language": "python",
   "name": "python3"
  },
  "language_info": {
   "codemirror_mode": {
    "name": "ipython",
    "version": 3
   },
   "file_extension": ".py",
   "mimetype": "text/x-python",
   "name": "python",
   "nbconvert_exporter": "python",
   "pygments_lexer": "ipython3",
   "version": "3.12.6"
  }
 },
 "nbformat": 4,
 "nbformat_minor": 5
}
