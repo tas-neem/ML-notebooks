{
 "cells": [
  {
   "cell_type": "markdown",
   "id": "23164979-bc5c-4b2c-8cf5-0782f73e734f",
   "metadata": {},
   "source": [
    "**Construct a single layer perceptron to implement AND and OR gate and print the network weights (without libraries)**"
   ]
  },
  {
   "cell_type": "code",
   "execution_count": 2,
   "id": "77aabc9e-c7ee-461d-b3ba-8f5388fef7d5",
   "metadata": {},
   "outputs": [
    {
     "name": "stdin",
     "output_type": "stream",
     "text": [
      "1-AND, 2-OR\n",
      "Enter gate :  2\n",
      "Enter epochs :  1\n",
      "Enter learning rate :  0.4\n",
      "Enter weights for x1 :  0.2\n",
      "Enter weights for x2 :  0.3\n",
      "Enter weights for bias :  -0.5\n"
     ]
    },
    {
     "name": "stdout",
     "output_type": "stream",
     "text": [
      "Epoch 1\n",
      " w1    w2   wb\n",
      "\n",
      "0.20 0.30 -0.50\n",
      "\n",
      "0.20 0.70 -0.10\n",
      "\n",
      "0.20 0.70 -0.10\n",
      "\n",
      "0.20 0.70 -0.10\n",
      "\n",
      "Final weights :\n",
      " w1    w2   wb\n",
      "0.20 0.70 -0.10\n",
      "\n"
     ]
    }
   ],
   "source": [
    "import numpy as np\n",
    "gate=int(input(\"1-AND, 2-OR\\nEnter gate : \"))\n",
    "x1=np.array([0,0,1,1])\n",
    "x2=np.array([0,1,0,1])\n",
    "if gate==1:\n",
    "    y=np.array([0,0,0,1])\n",
    "else:\n",
    "    y=np.array([0,1,1,1])\n",
    "n=x1.shape[0]\n",
    "epochs=int(input('Enter epochs : '))\n",
    "l=float(input('Enter learning rate : '))\n",
    "bias=1\n",
    "weights=[]\n",
    "weights.append(float(input('Enter weights for x1 : ')))\n",
    "weights.append(float(input('Enter weights for x2 : ')))\n",
    "weights.append(float(input('Enter weights for bias : ')))\n",
    "w=np.array(weights)\n",
    "for i in range(epochs):\n",
    "    print(f\"Epoch {i+1}\\n w1    w2   wb\\n\")\n",
    "    for j in range(n):\n",
    "        f=x1[j]*w[0]+x2[j]*w[1]+bias*w[2]\n",
    "        yout=(f>0).astype(int)\n",
    "        error=y[j]-yout\n",
    "        if error!=0:\n",
    "            w[0]+=l*error*x1[j]\n",
    "            w[1]+=l*error*x2[j]\n",
    "            w[2]+=l*error*bias\n",
    "        print(f\"{w[0]:.2f} {w[1]:.2f} {w[2]:.2f}\\n\")\n",
    "print(f'Final weights :\\n w1    w2   wb\\n{w[0]:.2f} {w[1]:.2f} {w[2]:.2f}\\n')"
   ]
  }
 ],
 "metadata": {
  "kernelspec": {
   "display_name": "Python 3 (ipykernel)",
   "language": "python",
   "name": "python3"
  },
  "language_info": {
   "codemirror_mode": {
    "name": "ipython",
    "version": 3
   },
   "file_extension": ".py",
   "mimetype": "text/x-python",
   "name": "python",
   "nbconvert_exporter": "python",
   "pygments_lexer": "ipython3",
   "version": "3.12.6"
  }
 },
 "nbformat": 4,
 "nbformat_minor": 5
}
